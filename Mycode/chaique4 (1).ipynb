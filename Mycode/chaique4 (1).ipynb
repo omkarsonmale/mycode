{
 "cells": [
  {
   "cell_type": "code",
   "execution_count": 15,
   "id": "dce571a8",
   "metadata": {},
   "outputs": [],
   "source": [
    "import pandas as pd"
   ]
  },
  {
   "cell_type": "code",
   "execution_count": 16,
   "id": "4de7f600",
   "metadata": {},
   "outputs": [],
   "source": [
    "import tensorflow as tf\n",
    "from tensorflow import keras"
   ]
  },
  {
   "cell_type": "code",
   "execution_count": 17,
   "id": "11075ecb",
   "metadata": {},
   "outputs": [],
   "source": [
    "df=pd.read_csv('train.csv')\n"
   ]
  },
  {
   "cell_type": "code",
   "execution_count": 18,
   "id": "fad93aa2",
   "metadata": {},
   "outputs": [
    {
     "data": {
      "text/html": [
       "<div>\n",
       "<style scoped>\n",
       "    .dataframe tbody tr th:only-of-type {\n",
       "        vertical-align: middle;\n",
       "    }\n",
       "\n",
       "    .dataframe tbody tr th {\n",
       "        vertical-align: top;\n",
       "    }\n",
       "\n",
       "    .dataframe thead th {\n",
       "        text-align: right;\n",
       "    }\n",
       "</style>\n",
       "<table border=\"1\" class=\"dataframe\">\n",
       "  <thead>\n",
       "    <tr style=\"text-align: right;\">\n",
       "      <th></th>\n",
       "      <th>pixel_0</th>\n",
       "      <th>pixel_1</th>\n",
       "      <th>pixel_2</th>\n",
       "      <th>pixel_3</th>\n",
       "      <th>pixel_4</th>\n",
       "      <th>pixel_5</th>\n",
       "      <th>pixel_6</th>\n",
       "      <th>pixel_7</th>\n",
       "      <th>pixel_8</th>\n",
       "      <th>pixel_9</th>\n",
       "      <th>...</th>\n",
       "      <th>pixel_3063</th>\n",
       "      <th>pixel_3064</th>\n",
       "      <th>pixel_3065</th>\n",
       "      <th>pixel_3066</th>\n",
       "      <th>pixel_3067</th>\n",
       "      <th>pixel_3068</th>\n",
       "      <th>pixel_3069</th>\n",
       "      <th>pixel_3070</th>\n",
       "      <th>pixel_3071</th>\n",
       "      <th>label</th>\n",
       "    </tr>\n",
       "  </thead>\n",
       "  <tbody>\n",
       "    <tr>\n",
       "      <th>0</th>\n",
       "      <td>59</td>\n",
       "      <td>43</td>\n",
       "      <td>50</td>\n",
       "      <td>68</td>\n",
       "      <td>98</td>\n",
       "      <td>119</td>\n",
       "      <td>139</td>\n",
       "      <td>145</td>\n",
       "      <td>149</td>\n",
       "      <td>149</td>\n",
       "      <td>...</td>\n",
       "      <td>58</td>\n",
       "      <td>65</td>\n",
       "      <td>59</td>\n",
       "      <td>46</td>\n",
       "      <td>57</td>\n",
       "      <td>104</td>\n",
       "      <td>140</td>\n",
       "      <td>84</td>\n",
       "      <td>72</td>\n",
       "      <td>6</td>\n",
       "    </tr>\n",
       "    <tr>\n",
       "      <th>1</th>\n",
       "      <td>154</td>\n",
       "      <td>126</td>\n",
       "      <td>105</td>\n",
       "      <td>102</td>\n",
       "      <td>125</td>\n",
       "      <td>155</td>\n",
       "      <td>172</td>\n",
       "      <td>180</td>\n",
       "      <td>142</td>\n",
       "      <td>111</td>\n",
       "      <td>...</td>\n",
       "      <td>42</td>\n",
       "      <td>67</td>\n",
       "      <td>101</td>\n",
       "      <td>122</td>\n",
       "      <td>133</td>\n",
       "      <td>136</td>\n",
       "      <td>139</td>\n",
       "      <td>142</td>\n",
       "      <td>144</td>\n",
       "      <td>9</td>\n",
       "    </tr>\n",
       "    <tr>\n",
       "      <th>2</th>\n",
       "      <td>255</td>\n",
       "      <td>253</td>\n",
       "      <td>253</td>\n",
       "      <td>253</td>\n",
       "      <td>253</td>\n",
       "      <td>253</td>\n",
       "      <td>253</td>\n",
       "      <td>253</td>\n",
       "      <td>253</td>\n",
       "      <td>253</td>\n",
       "      <td>...</td>\n",
       "      <td>83</td>\n",
       "      <td>80</td>\n",
       "      <td>69</td>\n",
       "      <td>66</td>\n",
       "      <td>72</td>\n",
       "      <td>79</td>\n",
       "      <td>83</td>\n",
       "      <td>83</td>\n",
       "      <td>84</td>\n",
       "      <td>9</td>\n",
       "    </tr>\n",
       "    <tr>\n",
       "      <th>3</th>\n",
       "      <td>28</td>\n",
       "      <td>37</td>\n",
       "      <td>38</td>\n",
       "      <td>42</td>\n",
       "      <td>44</td>\n",
       "      <td>40</td>\n",
       "      <td>40</td>\n",
       "      <td>24</td>\n",
       "      <td>32</td>\n",
       "      <td>43</td>\n",
       "      <td>...</td>\n",
       "      <td>39</td>\n",
       "      <td>59</td>\n",
       "      <td>42</td>\n",
       "      <td>44</td>\n",
       "      <td>48</td>\n",
       "      <td>38</td>\n",
       "      <td>28</td>\n",
       "      <td>37</td>\n",
       "      <td>46</td>\n",
       "      <td>4</td>\n",
       "    </tr>\n",
       "    <tr>\n",
       "      <th>4</th>\n",
       "      <td>170</td>\n",
       "      <td>168</td>\n",
       "      <td>177</td>\n",
       "      <td>183</td>\n",
       "      <td>181</td>\n",
       "      <td>177</td>\n",
       "      <td>181</td>\n",
       "      <td>184</td>\n",
       "      <td>189</td>\n",
       "      <td>189</td>\n",
       "      <td>...</td>\n",
       "      <td>88</td>\n",
       "      <td>85</td>\n",
       "      <td>82</td>\n",
       "      <td>83</td>\n",
       "      <td>79</td>\n",
       "      <td>78</td>\n",
       "      <td>82</td>\n",
       "      <td>78</td>\n",
       "      <td>80</td>\n",
       "      <td>1</td>\n",
       "    </tr>\n",
       "    <tr>\n",
       "      <th>...</th>\n",
       "      <td>...</td>\n",
       "      <td>...</td>\n",
       "      <td>...</td>\n",
       "      <td>...</td>\n",
       "      <td>...</td>\n",
       "      <td>...</td>\n",
       "      <td>...</td>\n",
       "      <td>...</td>\n",
       "      <td>...</td>\n",
       "      <td>...</td>\n",
       "      <td>...</td>\n",
       "      <td>...</td>\n",
       "      <td>...</td>\n",
       "      <td>...</td>\n",
       "      <td>...</td>\n",
       "      <td>...</td>\n",
       "      <td>...</td>\n",
       "      <td>...</td>\n",
       "      <td>...</td>\n",
       "      <td>...</td>\n",
       "      <td>...</td>\n",
       "    </tr>\n",
       "    <tr>\n",
       "      <th>49995</th>\n",
       "      <td>145</td>\n",
       "      <td>151</td>\n",
       "      <td>156</td>\n",
       "      <td>155</td>\n",
       "      <td>153</td>\n",
       "      <td>153</td>\n",
       "      <td>157</td>\n",
       "      <td>161</td>\n",
       "      <td>161</td>\n",
       "      <td>161</td>\n",
       "      <td>...</td>\n",
       "      <td>68</td>\n",
       "      <td>64</td>\n",
       "      <td>61</td>\n",
       "      <td>63</td>\n",
       "      <td>59</td>\n",
       "      <td>57</td>\n",
       "      <td>56</td>\n",
       "      <td>53</td>\n",
       "      <td>54</td>\n",
       "      <td>2</td>\n",
       "    </tr>\n",
       "    <tr>\n",
       "      <th>49996</th>\n",
       "      <td>255</td>\n",
       "      <td>254</td>\n",
       "      <td>255</td>\n",
       "      <td>254</td>\n",
       "      <td>254</td>\n",
       "      <td>254</td>\n",
       "      <td>254</td>\n",
       "      <td>253</td>\n",
       "      <td>254</td>\n",
       "      <td>254</td>\n",
       "      <td>...</td>\n",
       "      <td>61</td>\n",
       "      <td>64</td>\n",
       "      <td>68</td>\n",
       "      <td>64</td>\n",
       "      <td>76</td>\n",
       "      <td>82</td>\n",
       "      <td>79</td>\n",
       "      <td>81</td>\n",
       "      <td>76</td>\n",
       "      <td>6</td>\n",
       "    </tr>\n",
       "    <tr>\n",
       "      <th>49997</th>\n",
       "      <td>35</td>\n",
       "      <td>40</td>\n",
       "      <td>42</td>\n",
       "      <td>39</td>\n",
       "      <td>43</td>\n",
       "      <td>45</td>\n",
       "      <td>48</td>\n",
       "      <td>51</td>\n",
       "      <td>53</td>\n",
       "      <td>56</td>\n",
       "      <td>...</td>\n",
       "      <td>94</td>\n",
       "      <td>104</td>\n",
       "      <td>103</td>\n",
       "      <td>96</td>\n",
       "      <td>93</td>\n",
       "      <td>87</td>\n",
       "      <td>77</td>\n",
       "      <td>66</td>\n",
       "      <td>50</td>\n",
       "      <td>9</td>\n",
       "    </tr>\n",
       "    <tr>\n",
       "      <th>49998</th>\n",
       "      <td>189</td>\n",
       "      <td>186</td>\n",
       "      <td>185</td>\n",
       "      <td>184</td>\n",
       "      <td>182</td>\n",
       "      <td>181</td>\n",
       "      <td>180</td>\n",
       "      <td>180</td>\n",
       "      <td>181</td>\n",
       "      <td>180</td>\n",
       "      <td>...</td>\n",
       "      <td>166</td>\n",
       "      <td>171</td>\n",
       "      <td>171</td>\n",
       "      <td>172</td>\n",
       "      <td>169</td>\n",
       "      <td>165</td>\n",
       "      <td>169</td>\n",
       "      <td>171</td>\n",
       "      <td>171</td>\n",
       "      <td>1</td>\n",
       "    </tr>\n",
       "    <tr>\n",
       "      <th>49999</th>\n",
       "      <td>229</td>\n",
       "      <td>236</td>\n",
       "      <td>234</td>\n",
       "      <td>231</td>\n",
       "      <td>236</td>\n",
       "      <td>242</td>\n",
       "      <td>246</td>\n",
       "      <td>246</td>\n",
       "      <td>242</td>\n",
       "      <td>236</td>\n",
       "      <td>...</td>\n",
       "      <td>141</td>\n",
       "      <td>147</td>\n",
       "      <td>158</td>\n",
       "      <td>168</td>\n",
       "      <td>171</td>\n",
       "      <td>174</td>\n",
       "      <td>173</td>\n",
       "      <td>162</td>\n",
       "      <td>161</td>\n",
       "      <td>1</td>\n",
       "    </tr>\n",
       "  </tbody>\n",
       "</table>\n",
       "<p>50000 rows × 3073 columns</p>\n",
       "</div>"
      ],
      "text/plain": [
       "       pixel_0  pixel_1  pixel_2  pixel_3  pixel_4  pixel_5  pixel_6  pixel_7  \\\n",
       "0           59       43       50       68       98      119      139      145   \n",
       "1          154      126      105      102      125      155      172      180   \n",
       "2          255      253      253      253      253      253      253      253   \n",
       "3           28       37       38       42       44       40       40       24   \n",
       "4          170      168      177      183      181      177      181      184   \n",
       "...        ...      ...      ...      ...      ...      ...      ...      ...   \n",
       "49995      145      151      156      155      153      153      157      161   \n",
       "49996      255      254      255      254      254      254      254      253   \n",
       "49997       35       40       42       39       43       45       48       51   \n",
       "49998      189      186      185      184      182      181      180      180   \n",
       "49999      229      236      234      231      236      242      246      246   \n",
       "\n",
       "       pixel_8  pixel_9  ...  pixel_3063  pixel_3064  pixel_3065  pixel_3066  \\\n",
       "0          149      149  ...          58          65          59          46   \n",
       "1          142      111  ...          42          67         101         122   \n",
       "2          253      253  ...          83          80          69          66   \n",
       "3           32       43  ...          39          59          42          44   \n",
       "4          189      189  ...          88          85          82          83   \n",
       "...        ...      ...  ...         ...         ...         ...         ...   \n",
       "49995      161      161  ...          68          64          61          63   \n",
       "49996      254      254  ...          61          64          68          64   \n",
       "49997       53       56  ...          94         104         103          96   \n",
       "49998      181      180  ...         166         171         171         172   \n",
       "49999      242      236  ...         141         147         158         168   \n",
       "\n",
       "       pixel_3067  pixel_3068  pixel_3069  pixel_3070  pixel_3071  label  \n",
       "0              57         104         140          84          72      6  \n",
       "1             133         136         139         142         144      9  \n",
       "2              72          79          83          83          84      9  \n",
       "3              48          38          28          37          46      4  \n",
       "4              79          78          82          78          80      1  \n",
       "...           ...         ...         ...         ...         ...    ...  \n",
       "49995          59          57          56          53          54      2  \n",
       "49996          76          82          79          81          76      6  \n",
       "49997          93          87          77          66          50      9  \n",
       "49998         169         165         169         171         171      1  \n",
       "49999         171         174         173         162         161      1  \n",
       "\n",
       "[50000 rows x 3073 columns]"
      ]
     },
     "execution_count": 18,
     "metadata": {},
     "output_type": "execute_result"
    }
   ],
   "source": [
    "df"
   ]
  },
  {
   "cell_type": "code",
   "execution_count": null,
   "id": "546da94a",
   "metadata": {},
   "outputs": [],
   "source": []
  },
  {
   "cell_type": "code",
   "execution_count": 19,
   "id": "d2932b5a",
   "metadata": {},
   "outputs": [],
   "source": [
    "y_train=df['label']\n",
    "x_train=df.drop(labels = [\"label\"], axis = 1)"
   ]
  },
  {
   "cell_type": "code",
   "execution_count": null,
   "id": "99219794",
   "metadata": {},
   "outputs": [],
   "source": []
  },
  {
   "cell_type": "code",
   "execution_count": 22,
   "id": "0016aaca",
   "metadata": {},
   "outputs": [
    {
     "data": {
      "text/plain": [
       "0        6\n",
       "1        9\n",
       "2        9\n",
       "3        4\n",
       "4        1\n",
       "        ..\n",
       "49995    2\n",
       "49996    6\n",
       "49997    9\n",
       "49998    1\n",
       "49999    1\n",
       "Name: label, Length: 50000, dtype: int64"
      ]
     },
     "execution_count": 22,
     "metadata": {},
     "output_type": "execute_result"
    }
   ],
   "source": [
    "y_train"
   ]
  },
  {
   "cell_type": "code",
   "execution_count": null,
   "id": "16514d50",
   "metadata": {},
   "outputs": [],
   "source": []
  },
  {
   "cell_type": "code",
   "execution_count": 24,
   "id": "f9c3b01b",
   "metadata": {},
   "outputs": [
    {
     "ename": "NameError",
     "evalue": "name 'x_test' is not defined",
     "output_type": "error",
     "traceback": [
      "\u001b[1;31m---------------------------------------------------------------------------\u001b[0m",
      "\u001b[1;31mNameError\u001b[0m                                 Traceback (most recent call last)",
      "\u001b[1;32m~\\AppData\\Local\\Temp\\ipykernel_16800\\2370680626.py\u001b[0m in \u001b[0;36m<module>\u001b[1;34m\u001b[0m\n\u001b[0;32m      1\u001b[0m \u001b[0mx_train\u001b[0m \u001b[1;33m=\u001b[0m \u001b[0mx_train\u001b[0m\u001b[1;33m.\u001b[0m\u001b[0mastype\u001b[0m\u001b[1;33m(\u001b[0m\u001b[1;34m'float'\u001b[0m\u001b[1;33m)\u001b[0m\u001b[1;33m/\u001b[0m\u001b[1;36m255.\u001b[0m\u001b[1;33m\u001b[0m\u001b[1;33m\u001b[0m\u001b[0m\n\u001b[1;32m----> 2\u001b[1;33m \u001b[0mx_test\u001b[0m \u001b[1;33m=\u001b[0m \u001b[0mx_test\u001b[0m\u001b[1;33m.\u001b[0m\u001b[0mastype\u001b[0m\u001b[1;33m(\u001b[0m\u001b[1;34m'float'\u001b[0m\u001b[1;33m)\u001b[0m\u001b[1;33m/\u001b[0m\u001b[1;36m255.\u001b[0m\u001b[1;33m\u001b[0m\u001b[1;33m\u001b[0m\u001b[0m\n\u001b[0m",
      "\u001b[1;31mNameError\u001b[0m: name 'x_test' is not defined"
     ]
    }
   ],
   "source": [
    "x_train = x_train.astype('float')/255.\n",
    "x_test = x_test.astype('float')/255."
   ]
  },
  {
   "cell_type": "code",
   "execution_count": null,
   "id": "0fe3de65",
   "metadata": {},
   "outputs": [],
   "source": [
    "x_train=x_train.to_numpy()\n",
    "x_test=x_test.to_numpy()"
   ]
  },
  {
   "cell_type": "code",
   "execution_count": null,
   "id": "91a71376",
   "metadata": {},
   "outputs": [],
   "source": [
    "x_train=x_train.reshape(-1, 32, 32, 3)\n",
    "x_test=x_test.reshape(-1, 32, 32, 3)"
   ]
  },
  {
   "cell_type": "code",
   "execution_count": 17,
   "id": "c7a8f7ee",
   "metadata": {
    "scrolled": true
   },
   "outputs": [
    {
     "name": "stdout",
     "output_type": "stream",
     "text": [
      "Model: \"sequential_1\"\n",
      "_________________________________________________________________\n",
      " Layer (type)                Output Shape              Param #   \n",
      "=================================================================\n",
      " flatten_1 (Flatten)         (None, 3072)              0         \n",
      "                                                                 \n",
      " dense_2 (Dense)             (None, 128)               393344    \n",
      "                                                                 \n",
      " dropout_1 (Dropout)         (None, 128)               0         \n",
      "                                                                 \n",
      " dense_3 (Dense)             (None, 10)                1290      \n",
      "                                                                 \n",
      "=================================================================\n",
      "Total params: 394634 (1.51 MB)\n",
      "Trainable params: 394634 (1.51 MB)\n",
      "Non-trainable params: 0 (0.00 Byte)\n",
      "_________________________________________________________________\n"
     ]
    }
   ],
   "source": [
    "model = keras.Sequential([ \n",
    "    keras.layers.Flatten(input_shape=(32,32,3)),\n",
    "    keras.layers.Dense(128, activation = 'relu'),\n",
    "    keras.layers.Dropout(0.3),\n",
    "    keras.layers.Dense(10, activation = 'softmax')\n",
    "])\n",
    "model.summary()"
   ]
  },
  {
   "cell_type": "code",
   "execution_count": 18,
   "id": "12a1ad7a",
   "metadata": {},
   "outputs": [
    {
     "name": "stdout",
     "output_type": "stream",
     "text": [
      "Epoch 1/10\n",
      "1563/1563 [==============================] - 21s 13ms/step - loss: 2.1211 - accuracy: 0.1864 - val_loss: 1.9516 - val_accuracy: 0.2731\n",
      "Epoch 2/10\n",
      "1563/1563 [==============================] - 9s 6ms/step - loss: 2.0385 - accuracy: 0.2188 - val_loss: 1.9056 - val_accuracy: 0.2901\n",
      "Epoch 3/10\n",
      "1563/1563 [==============================] - 9s 6ms/step - loss: 2.0306 - accuracy: 0.2222 - val_loss: 1.9179 - val_accuracy: 0.2931\n",
      "Epoch 4/10\n",
      "1563/1563 [==============================] - 9s 6ms/step - loss: 2.0212 - accuracy: 0.2269 - val_loss: 1.9178 - val_accuracy: 0.2874\n",
      "Epoch 5/10\n",
      "1563/1563 [==============================] - 9s 6ms/step - loss: 2.0169 - accuracy: 0.2259 - val_loss: 1.9426 - val_accuracy: 0.2855\n",
      "Epoch 6/10\n",
      "1563/1563 [==============================] - 9s 6ms/step - loss: 2.0147 - accuracy: 0.2300 - val_loss: 1.9100 - val_accuracy: 0.2952\n",
      "Epoch 7/10\n",
      "1563/1563 [==============================] - 9s 5ms/step - loss: 2.0124 - accuracy: 0.2290 - val_loss: 1.8881 - val_accuracy: 0.2929\n",
      "Epoch 8/10\n",
      "1563/1563 [==============================] - 9s 6ms/step - loss: 2.0111 - accuracy: 0.2310 - val_loss: 1.8863 - val_accuracy: 0.2954\n",
      "Epoch 9/10\n",
      "1563/1563 [==============================] - 8s 5ms/step - loss: 2.0135 - accuracy: 0.2295 - val_loss: 1.8855 - val_accuracy: 0.2991\n",
      "Epoch 10/10\n",
      "1563/1563 [==============================] - 8s 5ms/step - loss: 2.0098 - accuracy: 0.2295 - val_loss: 1.9326 - val_accuracy: 0.2922\n"
     ]
    }
   ],
   "source": [
    "model.compile(optimizer = 'adam', loss = 'sparse_categorical_crossentropy', metrics = ['accuracy'])\n",
    "history = model.fit(x_train, y_train, validation_data = (x_test, y_test), epochs = 10)"
   ]
  },
  {
   "cell_type": "code",
   "execution_count": 20,
   "id": "18fef3bd",
   "metadata": {},
   "outputs": [
    {
     "data": {
      "image/png": "[encoded data removed]",
      "text/plain": [
       "<Figure size 640x480 with 1 Axes>"
      ]
     },
     "metadata": {},
     "output_type": "display_data"
    },
    {
     "name": "stdout",
     "output_type": "stream",
     "text": [
      "1563/1563 [==============================] - 2s 999us/step\n"
     ]
    },
    {
     "data": {
      "image/png": "[encoded data removed]",
      "text/plain": [
       "<Figure size 640x480 with 1 Axes>"
      ]
     },
     "metadata": {},
     "output_type": "display_data"
    }
   ],
   "source": [
    "import random\n",
    "import matplotlib.pyplot as plt\n",
    "n = random.randint(0, 9999)\n",
    "plt.imshow(x_test[n])\n",
    "plt.show()\n",
    "predicted_value = model.predict(x_test)\n",
    "plt.imshow(x_test[n])\n",
    "plt.show()"
   ]
  },
  {
   "cell_type": "code",
   "execution_count": 21,
   "id": "c4d8f1c2",
   "metadata": {},
   "outputs": [
    {
     "data": {
      "image/png": "[encoded data removed]",
      "text/plain": [
       "<Figure size 640x480 with 1 Axes>"
      ]
     },
     "metadata": {},
     "output_type": "display_data"
    }
   ],
   "source": [
    "plt.plot(history.history['accuracy'])\n",
    "plt.plot(history.history['val_accuracy'])\n",
    "plt.title('Model Accuracy')\n",
    "plt.ylabel('accuracy')\n",
    "plt.xlabel('epoch')\n",
    "plt.legend(['Train', 'Validation'], loc = \"upper left\")\n",
    "plt.show()"
   ]
  },
  {
   "cell_type": "code",
   "execution_count": 22,
   "id": "69296a20",
   "metadata": {},
   "outputs": [
    {
     "data": {
      "image/png": "[encoded data removed]",
      "text/plain": [
       "<Figure size 640x480 with 1 Axes>"
      ]
     },
     "metadata": {},
     "output_type": "display_data"
    }
   ],
   "source": [
    "plt.plot(history.history['loss'])\n",
    "plt.plot(history.history['val_loss'])\n",
    "plt.title('Model Loss')\n",
    "plt.ylabel('loss')\n",
    "plt.xlabel('epoch')\n",
    "plt.legend(['Train', 'Validation'], loc = \"upper right\")\n",
    "plt.show()"
   ]
  },
  {
   "cell_type": "code",
   "execution_count": null,
   "id": "93dbbc87",
   "metadata": {},
   "outputs": [],
   "source": []
  }
 ],
 "metadata": {
  "kernelspec": {
   "display_name": "Python 3 (ipykernel)",
   "language": "python",
   "name": "python3"
  },
  "language_info": {
   "codemirror_mode": {
    "name": "ipython",
    "version": 3
   },
   "file_extension": ".py",
   "mimetype": "text/x-python",
   "name": "python",
   "nbconvert_exporter": "python",
   "pygments_lexer": "ipython3",
   "version": "3.9.13"
  }
 },
 "nbformat": 4,
 "nbformat_minor": 5
}
